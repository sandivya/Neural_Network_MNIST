{
 "cells": [
  {
   "cell_type": "code",
   "execution_count": 501,
   "metadata": {},
   "outputs": [],
   "source": [
    "import numpy as np\n",
    "import scipy.special as sp\n",
    "import pandas as pd\n",
    "import matplotlib.pyplot as plt\n",
    "%matplotlib inline"
   ]
  },
  {
   "cell_type": "code",
   "execution_count": 502,
   "metadata": {},
   "outputs": [],
   "source": [
    "# Neural Network Class\n",
    "\n",
    "class neural_network:\n",
    "    \n",
    "    def __init__(self, inputnodes, hiddennodes, outputnodes, learningrate):\n",
    "        # Initialize the netowrk\n",
    "        \n",
    "        # Set number for all components of the NN\n",
    "        self.inodes = inputnodes\n",
    "        self.hnodes = hiddennodes\n",
    "        self.onodes = outputnodes\n",
    "        self.lr = learningrate\n",
    "        \n",
    "        # Assigning weight matrice to the network : (Subtracted with -0.5 to keep the value b/w -0.5 and +0.5)\n",
    "        # Weight between input and hidden layer\n",
    "        self.wih = np.random.normal(0.0, pow(self.inodes, -0.5), (self.hnodes, self.inodes))\n",
    "        # Size : (no. of hidden nodes x no. of input nodes)\n",
    "        \n",
    "        # Weight between hidden and output layer\n",
    "        self.who = np.random.normal(0.0, pow(self.hnodes, -0.5), (self.onodes, self.hnodes))\n",
    "        # Size : (no. of output nodes x no. of hidden nodes)\n",
    "        \n",
    "        # Activation function, scipy sigmoid function is called expit()\n",
    "        self.activation_function= lambda x: sp.expit(x)\n",
    "        \n",
    "        # ******************************************************************************************************************** #\n",
    "    \n",
    "    def train(self, inputs_list, targets_list):\n",
    "        # Train the network\n",
    "        # Target is the final wanted output\n",
    "        \n",
    "        # The first part is forward propagation which is same as query() method\n",
    "        inputs = np.array(inputs_list, ndmin = 2).T # ndmin is minimum number of dimensions, .T is transpose\n",
    "        targets = np.array(targets_list, ndmin = 2).T # ndmin in minimum number of dimensions, .T is transpose\n",
    "        \n",
    "        # Duplicating the query method \n",
    "        # Hidden inputs and outputs\n",
    "        hidden_inputs = np.dot(self.wih, inputs) # Multiplies weight matrix input->hidden with inputs\n",
    "        hidden_outputs = self.activation_function(hidden_inputs) # Calculates sigmoid of the hidden_inputs\n",
    "        \n",
    "        # Output layer inputs and outputs\n",
    "        final_inputs = np.dot(self.who, hidden_outputs) # Multiplies weight matrix hidden->output with hidden outputs\n",
    "        final_outputs = self.activation_function(final_inputs) # Calculates sigmoid of the output layer to generate OUTPUT\n",
    "        \n",
    "        # The second part is backpropagation of errors to update weights\n",
    "        \n",
    "        # Output Error\n",
    "        output_errors = targets - final_outputs\n",
    "        \n",
    "        # Error for hidden layer\n",
    "        hidden_errors = np.dot(self.who.T, output_errors)\n",
    "                \n",
    "        # Updating weights between hidden and final layer\n",
    "        self.who += self.lr*(np.dot((output_errors*final_outputs * (1.0 - final_outputs)),np.transpose(hidden_outputs)))\n",
    "        \n",
    "        #Updating weights between input and hidden layer\n",
    "        self.wih += self.lr * (np.dot((hidden_errors * hidden_outputs * (1.0 - hidden_outputs)), np.transpose(inputs)))\n",
    "        \n",
    "        # ******************************************************************************************************************** #\n",
    "    \n",
    "    def query(self, inputs_list):\n",
    "        # Processes the input to get output\n",
    "        inputs = np.array(inputs_list, ndmin = 2).T # .T is same as self.transpose()\n",
    "    \n",
    "        # Hidden inputs and outputs\n",
    "        hidden_inputs = np.dot(self.wih, inputs) # Multiplies weight matrix input->hidden with inputs\n",
    "        hidden_outputs = self.activation_function(hidden_inputs) # Calculates sigmoid of the hidden_inputs\n",
    "        \n",
    "        # Output layer inputs and outputs\n",
    "        final_inputs = np.dot(self.who, hidden_outputs) # Multiplies weight matrix hidden->output with hidden outputs\n",
    "        final_outputs = self.activation_function(final_inputs) # Calculates sigmoid of the output layer to generate OUTPUT\n",
    "        \n",
    "        return final_outputs\n",
    "    "
   ]
  },
  {
   "cell_type": "code",
   "execution_count": 551,
   "metadata": {},
   "outputs": [],
   "source": [
    "# Creating a NN using above class\n",
    "\n",
    "input_nodes = 784 # No. of pixels\n",
    "output_nodes = 10 # Possible output values (0-9)\n",
    "hidden_nodes = 200 # No. of hidden layer nodes\n",
    "learning_rate = 0.1\n",
    "\n",
    "n = neural_network(input_nodes, hidden_nodes, output_nodes, learning_rate)"
   ]
  },
  {
   "cell_type": "code",
   "execution_count": 560,
   "metadata": {},
   "outputs": [
    {
     "data": {
      "text/html": [
       "<div>\n",
       "<style scoped>\n",
       "    .dataframe tbody tr th:only-of-type {\n",
       "        vertical-align: middle;\n",
       "    }\n",
       "\n",
       "    .dataframe tbody tr th {\n",
       "        vertical-align: top;\n",
       "    }\n",
       "\n",
       "    .dataframe thead th {\n",
       "        text-align: right;\n",
       "    }\n",
       "</style>\n",
       "<table border=\"1\" class=\"dataframe\">\n",
       "  <thead>\n",
       "    <tr style=\"text-align: right;\">\n",
       "      <th></th>\n",
       "      <th>pixel1</th>\n",
       "      <th>pixel2</th>\n",
       "      <th>pixel3</th>\n",
       "      <th>pixel4</th>\n",
       "      <th>pixel5</th>\n",
       "      <th>pixel6</th>\n",
       "      <th>pixel7</th>\n",
       "      <th>pixel8</th>\n",
       "      <th>pixel9</th>\n",
       "      <th>pixel10</th>\n",
       "      <th>...</th>\n",
       "      <th>pixel776</th>\n",
       "      <th>pixel777</th>\n",
       "      <th>pixel778</th>\n",
       "      <th>pixel779</th>\n",
       "      <th>pixel780</th>\n",
       "      <th>pixel781</th>\n",
       "      <th>pixel782</th>\n",
       "      <th>pixel783</th>\n",
       "      <th>pixel784</th>\n",
       "      <th>class</th>\n",
       "    </tr>\n",
       "  </thead>\n",
       "  <tbody>\n",
       "    <tr>\n",
       "      <th>0</th>\n",
       "      <td>0</td>\n",
       "      <td>0</td>\n",
       "      <td>0</td>\n",
       "      <td>0</td>\n",
       "      <td>0</td>\n",
       "      <td>0</td>\n",
       "      <td>0</td>\n",
       "      <td>0</td>\n",
       "      <td>0</td>\n",
       "      <td>0</td>\n",
       "      <td>...</td>\n",
       "      <td>0</td>\n",
       "      <td>0</td>\n",
       "      <td>0</td>\n",
       "      <td>0</td>\n",
       "      <td>0</td>\n",
       "      <td>0</td>\n",
       "      <td>0</td>\n",
       "      <td>0</td>\n",
       "      <td>0</td>\n",
       "      <td>5</td>\n",
       "    </tr>\n",
       "    <tr>\n",
       "      <th>1</th>\n",
       "      <td>0</td>\n",
       "      <td>0</td>\n",
       "      <td>0</td>\n",
       "      <td>0</td>\n",
       "      <td>0</td>\n",
       "      <td>0</td>\n",
       "      <td>0</td>\n",
       "      <td>0</td>\n",
       "      <td>0</td>\n",
       "      <td>0</td>\n",
       "      <td>...</td>\n",
       "      <td>0</td>\n",
       "      <td>0</td>\n",
       "      <td>0</td>\n",
       "      <td>0</td>\n",
       "      <td>0</td>\n",
       "      <td>0</td>\n",
       "      <td>0</td>\n",
       "      <td>0</td>\n",
       "      <td>0</td>\n",
       "      <td>0</td>\n",
       "    </tr>\n",
       "  </tbody>\n",
       "</table>\n",
       "<p>2 rows × 785 columns</p>\n",
       "</div>"
      ],
      "text/plain": [
       "   pixel1  pixel2  pixel3  pixel4  pixel5  pixel6  pixel7  pixel8  pixel9  \\\n",
       "0       0       0       0       0       0       0       0       0       0   \n",
       "1       0       0       0       0       0       0       0       0       0   \n",
       "\n",
       "   pixel10  ...    pixel776  pixel777  pixel778  pixel779  pixel780  pixel781  \\\n",
       "0        0  ...           0         0         0         0         0         0   \n",
       "1        0  ...           0         0         0         0         0         0   \n",
       "\n",
       "   pixel782  pixel783  pixel784  class  \n",
       "0         0         0         0      5  \n",
       "1         0         0         0      0  \n",
       "\n",
       "[2 rows x 785 columns]"
      ]
     },
     "execution_count": 560,
     "metadata": {},
     "output_type": "execute_result"
    }
   ],
   "source": [
    "# Loading the dataset\n",
    "mnist = pd.read_csv('./mnist_784.csv')\n",
    "mnist.head(2)"
   ]
  },
  {
   "cell_type": "code",
   "execution_count": 513,
   "metadata": {},
   "outputs": [],
   "source": [
    "mnist_train = mnist[:60000] # Training data consists of 60,000 rows of MNIST Dataset\n",
    "mnist_test = mnist[60000:] # Test data consists of 10,000 rows of MNIST Dataset"
   ]
  },
  {
   "cell_type": "code",
   "execution_count": 556,
   "metadata": {},
   "outputs": [],
   "source": [
    "epoch = 9 # No. of times the training data will be used for training\n",
    "\n",
    "for e in range(epoch):\n",
    "    for row in mnist_train.iterrows():   # Traverses each row of my training data\n",
    "        inputs = ((row[1][:784] / 255.0) * 0.99) + 0.01 # Extracts all pixel values and scales them like weight matrix\n",
    "        targets = np.zeros(output_nodes) + 0.01 # Creates a target series with all elements set to 0\n",
    "        targets[row[1][-1]] = 0.99 # The 'TRUE' answer for current row is set as 0.99\n",
    "        n.train(inputs, targets) # Trains the data"
   ]
  },
  {
   "cell_type": "code",
   "execution_count": 557,
   "metadata": {},
   "outputs": [],
   "source": [
    "scorecard = [] # List to store output as boolean\n",
    "\n",
    "for i in range(60000, 70000): # Traversing test dataset now\n",
    "    inp = ((mnist_test.loc[i, 'pixel1':'pixel784'] / 255.0) * 0.99) + 0.01 # Input to be given\n",
    "    result = np.argmax(n.query(inp)) # Calling query() on input and the highest probable output's index is saved\n",
    "    if(mnist_test.loc[i, 'class'] == (result)): # Saved index is matched and 1 is stored in scorecard if TRUE occurs\n",
    "        scorecard.append(1)\n",
    "    else:\n",
    "        scorecard.append(0)"
   ]
  },
  {
   "cell_type": "code",
   "execution_count": 558,
   "metadata": {},
   "outputs": [
    {
     "name": "stdout",
     "output_type": "stream",
     "text": [
      "EFFICIENCY IS :  97.16\n"
     ]
    }
   ],
   "source": [
    "scorecard_arr = np.array(scorecard) # Converting scorecard list to numpy array\n",
    "print('EFFICIENCY IS : ', scorecard_arr.sum()/scorecard_arr.size * 100) # Calculating % efficiency of the code"
   ]
  },
  {
   "cell_type": "markdown",
   "metadata": {},
   "source": [
    "# Here are some proofs"
   ]
  },
  {
   "cell_type": "code",
   "execution_count": 599,
   "metadata": {},
   "outputs": [
    {
     "data": {
      "image/png": "[encoded data removed]",
      "text/plain": [
       "<Figure size 432x288 with 1 Axes>"
      ]
     },
     "metadata": {
      "needs_background": "light"
     },
     "output_type": "display_data"
    },
    {
     "name": "stdout",
     "output_type": "stream",
     "text": [
      "Actual Value :  6\n",
      "Predicted Value :  6\n",
      "Prediction is CORRECT!\n",
      "*************************************************************************\n"
     ]
    },
    {
     "data": {
      "image/png": "[encoded data removed]",
      "text/plain": [
       "<Figure size 432x288 with 1 Axes>"
      ]
     },
     "metadata": {
      "needs_background": "light"
     },
     "output_type": "display_data"
    },
    {
     "name": "stdout",
     "output_type": "stream",
     "text": [
      "Actual Value :  5\n",
      "Predicted Value :  5\n",
      "Prediction is CORRECT!\n",
      "*************************************************************************\n"
     ]
    },
    {
     "data": {
      "image/png": "[encoded data removed]",
      "text/plain": [
       "<Figure size 432x288 with 1 Axes>"
      ]
     },
     "metadata": {
      "needs_background": "light"
     },
     "output_type": "display_data"
    },
    {
     "name": "stdout",
     "output_type": "stream",
     "text": [
      "Actual Value :  0\n",
      "Predicted Value :  0\n",
      "Prediction is CORRECT!\n",
      "*************************************************************************\n"
     ]
    },
    {
     "data": {
      "image/png": "[encoded data removed]",
      "text/plain": [
       "<Figure size 432x288 with 1 Axes>"
      ]
     },
     "metadata": {
      "needs_background": "light"
     },
     "output_type": "display_data"
    },
    {
     "name": "stdout",
     "output_type": "stream",
     "text": [
      "Actual Value :  0\n",
      "Predicted Value :  5\n",
      "Prediction is INCORRECT!\n",
      "*************************************************************************\n"
     ]
    },
    {
     "data": {
      "image/png": "[encoded data removed]",
      "text/plain": [
       "<Figure size 432x288 with 1 Axes>"
      ]
     },
     "metadata": {
      "needs_background": "light"
     },
     "output_type": "display_data"
    },
    {
     "name": "stdout",
     "output_type": "stream",
     "text": [
      "Actual Value :  6\n",
      "Predicted Value :  6\n",
      "Prediction is CORRECT!\n",
      "*************************************************************************\n"
     ]
    }
   ],
   "source": [
    "# Selecting 5 random rows rows from test dataset\n",
    "proof = mnist_test.sample(5)\n",
    "for row in proof.iterrows(): # Iterate every row of proof dataframe\n",
    "    plt.figure() # Generate a matplotlib figure\n",
    "    plt.imshow(row[1][:784].values.reshape(28,28), cmap='gray_r', interpolation=None) # Plot the figure\n",
    "    plt.show() # Displays the figure\n",
    "    print('Actual Value : ', row[1][784]) # Prints 'true' value\n",
    "    inp = ((row[1][:784] / 255) * 0.99) + 0.01 # Prepares input matrix\n",
    "    pred = np.argmax(n.query(inp)) # Predicts the outcome by query()\n",
    "    print('Predicted Value : ', pred) # Prints predicted value\n",
    "    \n",
    "    if pred == row[1][784]:\n",
    "        print('Prediction is CORRECT!')\n",
    "    else:\n",
    "        print('Prediction is INCORRECT!')\n",
    "    \n",
    "    print('*************************************************************************')"
   ]
  },
  {
   "cell_type": "code",
   "execution_count": null,
   "metadata": {},
   "outputs": [],
   "source": []
  }
 ],
 "metadata": {
  "kernelspec": {
   "display_name": "Python 3",
   "language": "python",
   "name": "python3"
  },
  "language_info": {
   "codemirror_mode": {
    "name": "ipython",
    "version": 3
   },
   "file_extension": ".py",
   "mimetype": "text/x-python",
   "name": "python",
   "nbconvert_exporter": "python",
   "pygments_lexer": "ipython3",
   "version": "3.7.1"
  }
 },
 "nbformat": 4,
 "nbformat_minor": 2
}
